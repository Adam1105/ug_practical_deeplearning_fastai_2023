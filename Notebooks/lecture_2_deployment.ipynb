{
 "cells": [
  {
   "cell_type": "code",
   "execution_count": null,
   "id": "d703d423-e8ac-4371-adbd-ec22d42edc52",
   "metadata": {
    "tags": [],
    "pycharm": {
     "name": "#%%\n"
    }
   },
   "outputs": [],
   "source": [
    "!pip install -Uqq gradio\n",
    "!pip install -Uqq nbdev"
   ]
  },
  {
   "cell_type": "markdown",
   "source": [
    "In this notebook we will use nbdev library to export notebook to python script. So we can first check results interactively and then swiftly move code to the regular python script.\n",
    "\n",
    "`#|default_exp app` - tells the nbdev export functionality to put output script to the app directory.\n",
    "`#|export` - marks cells taht should be exported"
   ],
   "metadata": {
    "collapsed": false,
    "pycharm": {
     "name": "#%% md\n"
    }
   }
  },
  {
   "cell_type": "code",
   "execution_count": null,
   "id": "b5937009-ebff-4fbc-894a-6c5b4e6a636b",
   "metadata": {
    "tags": [],
    "pycharm": {
     "name": "#%%\n"
    }
   },
   "outputs": [],
   "source": [
    "#|default_exp app"
   ]
  },
  {
   "cell_type": "code",
   "execution_count": null,
   "id": "59de6190-a7d5-4ce2-bc44-01088a18df03",
   "metadata": {
    "tags": [],
    "pycharm": {
     "name": "#%%\n"
    }
   },
   "outputs": [],
   "source": [
    "#|export\n",
    "import gradio as gr\n",
    "from fastai.vision.all import *"
   ]
  },
  {
   "cell_type": "markdown",
   "source": [
    "## Run the model predict on saved checkpoint\n",
    "Let's get some beer images from the duck duck go and run predictions with saved model"
   ],
   "metadata": {
    "collapsed": false,
    "pycharm": {
     "name": "#%% md\n"
    }
   }
  },
  {
   "cell_type": "code",
   "execution_count": null,
   "outputs": [],
   "source": [
    "from IPython import display\n",
    "\n",
    "from duckduckgo_search import ddg_images\n",
    "from fastcore.all import L\n",
    "from fastdownload import download_url"
   ],
   "metadata": {
    "collapsed": false,
    "pycharm": {
     "name": "#%%\n"
    }
   }
  },
  {
   "cell_type": "code",
   "execution_count": null,
   "id": "b12b9c76-1074-4fcc-b7df-bfda6d620eb2",
   "metadata": {
    "tags": [],
    "pycharm": {
     "name": "#%%\n"
    }
   },
   "outputs": [],
   "source": [
    "\n",
    "\n",
    "def search_images(term, max_images=200): \n",
    "    return L(ddg_images(term, max_results=max_images)).itemgot('image')\n",
    "\n",
    "for id_ in [\"harnas\", \"perla\", \"warka\"]:\n",
    "    urls = search_images(f'piwo {id_}', max_images=1)\n",
    "    dest = f'{id_}.jpg'\n",
    "    download_url(urls[0], dest, show_progress=False)\n",
    "    im = Image.open(dest)\n",
    "    im.to_thumb(192, 192)\n",
    "    display.display(im)"
   ]
  },
  {
   "cell_type": "code",
   "execution_count": null,
   "id": "a527d308-8388-4eca-9fce-e87bc3241c91",
   "metadata": {
    "tags": [],
    "pycharm": {
     "name": "#%%\n"
    }
   },
   "outputs": [],
   "source": [
    "#|export\n",
    "model = load_learner(\"./export.pkl\")"
   ]
  },
  {
   "cell_type": "code",
   "execution_count": null,
   "id": "e2851c9e-65d0-4848-8361-58c25f87d0c2",
   "metadata": {
    "tags": [],
    "pycharm": {
     "name": "#%%\n"
    }
   },
   "outputs": [],
   "source": [
    "model.predict(im)"
   ]
  },
  {
   "cell_type": "markdown",
   "source": [
    "## Use GradIO to create interactive app\n",
    "First we will create a function that is an entrypoint to run predictions with the model\n",
    "Then we will create GradIO interface that runs this entrypoint on provided Image inputs and examples\n",
    "We will visualize locally if everything works as expected"
   ],
   "metadata": {
    "collapsed": false,
    "pycharm": {
     "name": "#%% md\n"
    }
   }
  },
  {
   "cell_type": "code",
   "execution_count": null,
   "id": "46b51c28-4c56-4c70-8975-4c612a2e4c88",
   "metadata": {
    "tags": [],
    "pycharm": {
     "name": "#%%\n"
    }
   },
   "outputs": [],
   "source": [
    "#|export\n",
    "\n",
    "categories = ['harnas', 'perla', 'warka']\n",
    "def classify_beer(img):\n",
    "    pred, idx, probs = model.predict(img)\n",
    "    return dict(zip(categories, map(float, probs)))"
   ]
  },
  {
   "cell_type": "code",
   "execution_count": null,
   "id": "c9f0f5f3-2123-4aa7-a935-6e695811c562",
   "metadata": {
    "tags": [],
    "pycharm": {
     "name": "#%%\n",
     "is_executing": true
    }
   },
   "outputs": [],
   "source": [
    "classify_beer(im)"
   ]
  },
  {
   "cell_type": "code",
   "execution_count": null,
   "id": "649e6a70-d841-420f-8daf-766d4ccaf33b",
   "metadata": {
    "tags": [],
    "pycharm": {
     "name": "#%%\n"
    }
   },
   "outputs": [],
   "source": [
    "#|export\n",
    "\n",
    "in_img = gr.Image(shape=(192, 192))\n",
    "label = gr.Label()\n",
    "examples = [\"harnas.jpg\", \"perla.jpg\", \"warka.jpg\"]\n",
    "\n",
    "iface = gr.Interface(fn=classify_beer, inputs=in_img, outputs=label, examples=examples)\n",
    "iface.launch(inline=False, debug=True, server_port=6060)"
   ]
  },
  {
   "cell_type": "markdown",
   "source": [
    "## Close all locally running gradio services"
   ],
   "metadata": {
    "collapsed": false,
    "pycharm": {
     "name": "#%% md\n"
    }
   }
  },
  {
   "cell_type": "code",
   "execution_count": null,
   "id": "f81a11b3-b87c-4197-94ff-5f33253c09ef",
   "metadata": {
    "tags": [],
    "pycharm": {
     "name": "#%%\n"
    }
   },
   "outputs": [],
   "source": [
    "gr.close_all()"
   ]
  },
  {
   "cell_type": "markdown",
   "source": [
    "## Create an app.py for HuggingFace space."
   ],
   "metadata": {
    "collapsed": false,
    "pycharm": {
     "name": "#%% md\n"
    }
   }
  },
  {
   "cell_type": "code",
   "execution_count": null,
   "id": "7b451b54-819d-479a-a98e-856d7d5cac43",
   "metadata": {
    "pycharm": {
     "name": "#%%\n"
    }
   },
   "outputs": [],
   "source": [
    "import nbdev\n",
    "nbdev.export.nb_export('lecture_2_deployment.ipynb', './app')"
   ]
  },
  {
   "cell_type": "markdown",
   "source": [
    "# Use GradIO client Python API with your model"
   ],
   "metadata": {
    "collapsed": false,
    "pycharm": {
     "name": "#%% md\n"
    }
   }
  },
  {
   "cell_type": "code",
   "execution_count": null,
   "id": "96f8dc2b-a5a6-4781-80e3-66b61d275e3e",
   "metadata": {
    "tags": [],
    "pycharm": {
     "name": "#%%\n"
    }
   },
   "outputs": [],
   "source": [
    "from gradio_client import Client\n",
    "from pathlib import Path\n",
    "\n",
    "client = Client(\"https://adam1105-ug-practical-deeplearning-fastai-2023.hf.space/\")\n",
    "\n",
    "def beer_predict_api(im_path):\n",
    "    result_path = client.predict(im_path, # str (filepath or URL to image) in 'img' Image component\n",
    "                        api_name=\"/predict\")\n",
    "    return json.loads(Path(result_path).read_text())"
   ]
  },
  {
   "cell_type": "code",
   "execution_count": null,
   "id": "deaea92c-2e3c-4db7-97c4-39c35922c93f",
   "metadata": {
    "tags": [],
    "pycharm": {
     "name": "#%%\n"
    }
   },
   "outputs": [],
   "source": [
    "beer_predict_api(\"perla.jpg\")"
   ]
  }
 ],
 "metadata": {
  "kernelspec": {
   "display_name": "default:Python",
   "language": "python",
   "name": "conda-env-default-py"
  },
  "language_info": {
   "codemirror_mode": {
    "name": "ipython",
    "version": 3
   },
   "file_extension": ".py",
   "mimetype": "text/x-python",
   "name": "python",
   "nbconvert_exporter": "python",
   "pygments_lexer": "ipython3",
   "version": "3.9.16"
  }
 },
 "nbformat": 4,
 "nbformat_minor": 5
}